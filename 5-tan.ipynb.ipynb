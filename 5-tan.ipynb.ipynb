{
 "cells": [
  {
   "cell_type": "code",
   "execution_count": 1,
   "metadata": {
    "id": "mmXsOdhDDC2E"
   },
   "outputs": [],
   "source": [
    "import numpy as np"
   ]
  },
  {
   "cell_type": "markdown",
   "metadata": {},
   "source": [
    "Note: From my testing on shuffle number order about 2-3 times, I guess it works, maybe."
   ]
  },
  {
   "cell_type": "code",
   "execution_count": 63,
   "metadata": {
    "colab": {
     "base_uri": "https://localhost:8080/",
     "height": 520
    },
    "id": "tSAWyxRnHC2A",
    "outputId": "9f07b2d5-466a-443d-ac1f-5b0579fa9c3b"
   },
   "outputs": [
    {
     "name": "stdout",
     "output_type": "stream",
     "text": [
      "[ 2 10  6  4  8 12 14  0]\n",
      "0\n",
      "2\n",
      "4\n",
      "6\n",
      "8\n",
      "9\n",
      "10\n",
      "12\n",
      "14\n",
      "+++\n",
      "0\n",
      "2\n",
      "4\n",
      "6\n",
      "8\n",
      "9\n",
      "10\n",
      "14\n"
     ]
    }
   ],
   "source": [
    "class Node(object):\n",
    "    def __init__(self, key):\n",
    "        self.left = None\n",
    "        self.right = None\n",
    "        self.key = key\n",
    "    \n",
    "    def minimum(self, key):\n",
    "        if self.left:\n",
    "            self.left.minimum(self.left.key)\n",
    "        else:\n",
    "            self.successor = self.key\n",
    "            return self.key\n",
    "    \n",
    "    def insert(self, key):\n",
    "        if self.key:\n",
    "            if key <= self.key:\n",
    "                if self.left == None:\n",
    "                    self.left = Node(key)\n",
    "                else:\n",
    "                    self.left.insert(key)\n",
    "            elif key > self.key:\n",
    "                if self.right == None:\n",
    "                    self.right = Node(key)\n",
    "                else:\n",
    "                    self.right.insert(key)\n",
    "            else:\n",
    "                self.key = key\n",
    "                \n",
    "        \n",
    "    def delete(self, key):\n",
    "        if self.key == key:\n",
    "            if self.left and self.right:\n",
    "                successor = self.right.minimum(self.right.key)\n",
    "                self.key = successor\n",
    "                self.right.delete(successor)\n",
    "            elif self.left:\n",
    "                self.key = self.left.key\n",
    "                self.left.delete(self.left.key)\n",
    "            elif self.right:\n",
    "                self.key = self.right.key\n",
    "                self.right.delete(self.right.key)\n",
    "            else:\n",
    "                self.key = None\n",
    "        else:\n",
    "            if key < self.key:\n",
    "                self.left.delete(key)\n",
    "            else:\n",
    "                self.right.delete(key)\n",
    "\n",
    "    def printTree(self):\n",
    "        if self.left:\n",
    "            self.left.printTree()\n",
    "        if self.key != None:\n",
    "            print(self.key)\n",
    "        if self.right:\n",
    "            self.right.printTree()\n",
    "\n",
    "root = Node(9)\n",
    "a = np.arange(0, 15, 2)\n",
    "np.random.shuffle(a)\n",
    "print(a)\n",
    "for i in a:\n",
    "    root.insert(i)\n",
    "root.printTree()\n",
    "print('+++')\n",
    "\n",
    "# delete a[5]\n",
    "root.delete(a[5])\n",
    "root.printTree()"
   ]
  },
  {
   "cell_type": "code",
   "execution_count": null,
   "metadata": {},
   "outputs": [],
   "source": []
  }
 ],
 "metadata": {
  "colab": {
   "collapsed_sections": [],
   "provenance": []
  },
  "kernelspec": {
   "display_name": "Python 3 (ipykernel)",
   "language": "python",
   "name": "python3"
  },
  "language_info": {
   "codemirror_mode": {
    "name": "ipython",
    "version": 3
   },
   "file_extension": ".py",
   "mimetype": "text/x-python",
   "name": "python",
   "nbconvert_exporter": "python",
   "pygments_lexer": "ipython3",
   "version": "3.9.7"
  }
 },
 "nbformat": 4,
 "nbformat_minor": 4
}
