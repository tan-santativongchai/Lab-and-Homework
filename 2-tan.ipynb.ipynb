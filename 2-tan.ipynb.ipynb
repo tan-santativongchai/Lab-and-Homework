{
  "nbformat": 4,
  "nbformat_minor": 0,
  "metadata": {
    "colab": {
      "name": "2-tan.ipynb.ipynb",
      "provenance": []
    },
    "kernelspec": {
      "name": "python3",
      "display_name": "Python 3"
    },
    "language_info": {
      "name": "python"
    }
  },
  "cells": [
    {
      "cell_type": "code",
      "execution_count": null,
      "metadata": {
        "id": "iVIz6gaSz_Fu"
      },
      "outputs": [],
      "source": [
        "import numpy as np\n",
        "import matplotlib.pyplot as plt\n",
        "import time\n"
      ]
    },
    {
      "cell_type": "code",
      "source": [
        "def find_MaximumCrossingSubarray(A, low, mid, high):\n",
        "  LSum = np.NINF\n",
        "  s = 0\n",
        "  maxL = mid\n",
        "  for i in range(mid - 1, low - 1, -1):\n",
        "    s = s + A[i]\n",
        "    if s > LSum:\n",
        "      LSum = s\n",
        "      maxL = i\n",
        "\n",
        "  RSum = np.NINF\n",
        "  s = 0\n",
        "  maxR = mid + 1\n",
        "  for j in range(mid, high):\n",
        "    s = s + A[j]\n",
        "    if s > RSum:\n",
        "      RSum = s\n",
        "      maxR = j + 1\n",
        "  return (maxL, maxR, LSum + RSum)\n",
        "\n",
        "def find_MaximumSubarray(A, low, high):\n",
        "  if high - 1 == low:\n",
        "    return (low, high, A[low])\n",
        "  else:\n",
        "    mid = (low + high) // 2\n",
        "    LLow, LHigh, LSum = find_MaximumSubarray(A, low, mid)\n",
        "    RLow, RHigh, RSum = find_MaximumSubarray(A, mid, high)\n",
        "    CLow, CHigh, CSum = find_MaximumCrossingSubarray(A, low, mid, high)\n",
        "\n",
        "    if LSum > RSum and LSum > CSum:\n",
        "      return (LLow, LHigh, LSum)\n",
        "    elif RSum > LSum and RSum > CSum:\n",
        "      return (RLow, RHigh, RSum)\n",
        "    else:\n",
        "      return (CLow, CHigh, CSum)\n",
        "\n",
        "\n",
        "\n",
        "plt.xlabel('List Length')\n",
        "plt.ylabel('Time Complexity')\n",
        "\n",
        "times = list()\n",
        "start_all = time.process_time()\n",
        "for i in range(0, 50):\n",
        "  start = time.clock()\n",
        "  if i > 0:\n",
        "    a = np.random.randint(-500, 500, size = i * 100)\n",
        "    find_MaximumSubarray(a, 0, a.shape[0])\n",
        "  end = time.process_time()\n",
        "  times.append(end - start)\n",
        "\n",
        "n = np.array([i * 100 for i in range(0, 50)])\n",
        "plt.plot(n, times, label = \"Process Time\")\n",
        "plt.plot(n, (1/500000) * n * np.log(n), label = \"Theory Time\")\n",
        "plt.grid()\n",
        "plt.legend()\n",
        "plt.show()\n"
      ],
      "metadata": {
        "colab": {
          "base_uri": "https://localhost:8080/",
          "height": 331
        },
        "id": "YdI_vurt038V",
        "outputId": "fac4f0b4-5b92-4320-96b3-7b0c79629568"
      },
      "execution_count": 70,
      "outputs": [
        {
          "output_type": "stream",
          "name": "stderr",
          "text": [
            "/usr/local/lib/python3.7/dist-packages/ipykernel_launcher.py:45: DeprecationWarning: time.clock has been deprecated in Python 3.3 and will be removed from Python 3.8: use time.perf_counter or time.process_time instead\n",
            "/usr/local/lib/python3.7/dist-packages/ipykernel_launcher.py:54: RuntimeWarning: divide by zero encountered in log\n",
            "/usr/local/lib/python3.7/dist-packages/ipykernel_launcher.py:54: RuntimeWarning: invalid value encountered in multiply\n"
          ]
        },
        {
          "output_type": "display_data",
          "data": {
            "text/plain": [
              "<Figure size 432x288 with 1 Axes>"
            ],
            "image/png": "[encoded data removed]"
          },
          "metadata": {
            "needs_background": "light"
          }
        }
      ]
    },
    {
      "cell_type": "code",
      "source": [
        "arr_test = np.random.randint(-20, 20, size = 10)\n",
        "\n",
        "print(arr_test,'\\n',find_MaximumSubarray(arr_test, 0, arr_test.shape[0]))"
      ],
      "metadata": {
        "colab": {
          "base_uri": "https://localhost:8080/"
        },
        "id": "OhI3HGje5Nom",
        "outputId": "de5868da-aad4-430e-ee3e-44f13ea86b32"
      },
      "execution_count": null,
      "outputs": [
        {
          "output_type": "stream",
          "name": "stdout",
          "text": [
            "[ 12  -8 -14  12   4 -10  19   8  15  15] \n",
            " (3, 10, 63)\n"
          ]
        }
      ]
    }
  ]
}
