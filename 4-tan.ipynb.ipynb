{
  "nbformat": 4,
  "nbformat_minor": 0,
  "metadata": {
    "colab": {
      "provenance": []
    },
    "kernelspec": {
      "name": "python3",
      "display_name": "Python 3"
    },
    "language_info": {
      "name": "python"
    }
  },
  "cells": [
    {
      "cell_type": "code",
      "execution_count": 42,
      "metadata": {
        "id": "mmXsOdhDDC2E"
      },
      "outputs": [],
      "source": [
        "import numpy as np\n",
        "from timeit import timeit\n",
        "import matplotlib.pyplot as plt"
      ]
    },
    {
      "cell_type": "markdown",
      "source": [
        "Quicksort"
      ],
      "metadata": {
        "id": "RkwdtEoakRpf"
      }
    },
    {
      "cell_type": "code",
      "source": [
        "def partition(A, p, r):\n",
        "  x = A[r]\n",
        "  i = p - 1\n",
        "  for j in range(p, r):\n",
        "    if A[j] <= x:\n",
        "      i = i + 1\n",
        "      A[i],  A[j] = A[j],  A[i]\n",
        "  A[i + 1], A[r] = A[r], A[i + 1]\n",
        "  return i + 1\n",
        "\n",
        "def quicksort(A, p, r):\n",
        "  if p < r:\n",
        "    q = partition(A, p, r - 1)\n",
        "    quicksort(A, p, q)\n",
        "    quicksort(A, q + 1, r)\n",
        "\n",
        "Arr_test = np.random.randint(1, 10, size = 10)\n",
        "print(Arr_test)\n",
        "A = np.insert(Arr_test, 0, 0)\n",
        "print(A)\n",
        "quicksort(A, 1, A.shape[0])\n",
        "print(A)\n",
        "Arr_test = A[1:]\n",
        "\n",
        "print(Arr_test)\n"
      ],
      "metadata": {
        "colab": {
          "base_uri": "https://localhost:8080/"
        },
        "id": "-slrY3FCDVsP",
        "outputId": "f6a18824-c5b1-4828-ab01-92854c9dba42"
      },
      "execution_count": 43,
      "outputs": [
        {
          "output_type": "stream",
          "name": "stdout",
          "text": [
            "[5 7 7 3 3 9 1 9 2 5]\n",
            "[0 5 7 7 3 3 9 1 9 2 5]\n",
            "[0 1 2 3 3 5 5 7 7 9 9]\n",
            "[1 2 3 3 5 5 7 7 9 9]\n"
          ]
        }
      ]
    },
    {
      "cell_type": "markdown",
      "source": [
        "Heapsort"
      ],
      "metadata": {
        "id": "7t501PQWkV-O"
      }
    },
    {
      "cell_type": "code",
      "source": [
        "def parent(i):\n",
        "  return i // 2\n",
        "\n",
        "def left(i):\n",
        "  return 2 * i\n",
        "\n",
        "def right(i):\n",
        "  return (2 * i) + 1\n",
        "\n",
        "def maxHeapify(A, i):\n",
        "  l = left(i)\n",
        "  r = right(i)\n",
        "  \n",
        "  if l <= A.shape[0] - 1 and A[l] > A[i]:\n",
        "    largest = l\n",
        "  else:\n",
        "    largest = i\n",
        "  \n",
        "  if r <= A.shape[0] - 1 and A[r] > A[largest]:\n",
        "    largest = r\n",
        "  \n",
        "  if largest != i:\n",
        "    A[i], A[largest] = A[largest], A[i]\n",
        "    maxHeapify(A, largest)\n",
        "\n",
        "def build_maxHeap(A):\n",
        "  A_heapSize = A.shape[0]\n",
        "  for i in range(parent(A.shape[0]), -1, -1):\n",
        "    maxHeapify(A, i)\n",
        "  \n",
        "def Heapsort(A):\n",
        "  build_maxHeap(A)\n",
        "  for i in range(A.shape[0] - 1, -1, -1):\n",
        "    A[0], A[i] = A[i], A[0]\n",
        "    build_maxHeap(A[:i])"
      ],
      "metadata": {
        "id": "5revq2U-kZTR"
      },
      "execution_count": 44,
      "outputs": []
    },
    {
      "cell_type": "markdown",
      "source": [
        "Mergesort // EDITED TO RECURSION"
      ],
      "metadata": {
        "id": "JhQxapwnkt3v"
      }
    },
    {
      "cell_type": "code",
      "source": [
        "def merge(A, p, q, r):\n",
        "  n1 = q - p\n",
        "  n2 = r - q\n",
        "  L = np.zeros(n1 + 1)\n",
        "  R = np.zeros(n2 + 1)\n",
        "  for i in range(n1):\n",
        "    L[i] = A[p + i]\n",
        "  for j in range(n2):\n",
        "    R[j] = A[q + j]\n",
        "  L[n1] = np.inf\n",
        "  R[n2] = np.inf\n",
        "  i = 0\n",
        "  j = 0\n",
        "  for k in range(p, r):\n",
        "    if L[i] <= R[j]:\n",
        "      A[k] = L[i]\n",
        "      i += 1\n",
        "    else:\n",
        "      A[k] = R[j]\n",
        "      j += 1\n",
        "\n",
        "def mergeSort(A, p, r):\n",
        "  if p + 1 < r:\n",
        "    q = (p + r) // 2\n",
        "    mergeSort(A, p, q)\n",
        "    mergeSort(A, q, r)\n",
        "    merge(A, p, q, r)\n",
        "  \n",
        "Arr_test = np.random.randint(1, 21, size = 10)\n",
        "print(Arr_test)\n",
        "mergeSort(Arr_test, 0, Arr_test.shape[0])\n",
        "print(Arr_test)"
      ],
      "metadata": {
        "id": "z8HTtoS9ktbP",
        "colab": {
          "base_uri": "https://localhost:8080/"
        },
        "outputId": "52774c64-4f1c-4b36-f853-e134979ebf5e"
      },
      "execution_count": 45,
      "outputs": [
        {
          "output_type": "stream",
          "name": "stdout",
          "text": [
            "[15 17 12  5  4  7  1 20 10 17]\n",
            "[ 1  4  5  7 10 12 15 17 17 20]\n"
          ]
        }
      ]
    },
    {
      "cell_type": "code",
      "source": [
        "plt.xlabel('List Length')\n",
        "plt.ylabel('Time Complexity')\n",
        "\n",
        "times_quick = []\n",
        "times_heap = []\n",
        "times_merge = []\n",
        "n = np.array([10, 100, 1000])\n",
        "\n",
        "for i in n:\n",
        "  a = np.random.randint(-500, 500, size = i)\n",
        "  times_quick.append(timeit('quicksort(np.insert(a, 0, 0),  0,  a.shape[0])', number = 1, globals = globals()))\n",
        "  times_heap.append(timeit('Heapsort(a)', number = 1, globals = globals()))\n",
        "  times_merge.append(timeit('mergeSort(a,  0,  a.shape[0])', number = 1, globals = globals()))\n",
        "\n",
        "plt.plot(n, times_quick, label = \"Quick Sort\")\n",
        "plt.plot(n, times_heap, label = \"Heap Sort\")\n",
        "plt.plot(n, times_merge, label = \"Merge Sort\")\n",
        "plt.grid()\n",
        "plt.legend()\n",
        "plt.show()"
      ],
      "metadata": {
        "colab": {
          "base_uri": "https://localhost:8080/",
          "height": 279
        },
        "id": "ilbHdtnOD61w",
        "outputId": "0c52b4d0-caf9-4004-f761-800b9157f7b2"
      },
      "execution_count": 51,
      "outputs": [
        {
          "output_type": "display_data",
          "data": {
            "text/plain": [
              "<Figure size 432x288 with 1 Axes>"
            ],
            "image/png": "[encoded data removed]"
          },
          "metadata": {
            "needs_background": "light"
          }
        }
      ]
    }
  ]
}