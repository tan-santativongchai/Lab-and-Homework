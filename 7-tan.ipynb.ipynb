{
 "cells": [
  {
   "cell_type": "code",
   "execution_count": 32,
   "id": "e4eef93c",
   "metadata": {},
   "outputs": [
    {
     "name": "stdout",
     "output_type": "stream",
     "text": [
      "1 -->2 -->4 -->6 -->7 -->5 -->3 -->\n",
      "\n",
      "1 -->2 -->7 -->4 -->5 -->6 -->3 -->\n",
      "\n"
     ]
    }
   ],
   "source": [
    "#adjacency list\n",
    "graph = {\n",
    "    '1' : ['2'],\n",
    "    '2' : ['7', '4'],\n",
    "    '3' : ['4'],\n",
    "    '4' : ['6'],\n",
    "    '5' : ['4', '3'],\n",
    "    '6' : [],\n",
    "    '7' : ['5']\n",
    "}\n",
    "\n",
    "# adjacency matrix\n",
    "# I try to make it to applicable with not much change the old code and I can think the way like this. I am not sure if it correct or not.\n",
    "o = '-inf'\n",
    "graph_mat = {\n",
    "    '1' : [o, '2', o, o, o, o, o],\n",
    "    '2' : [o, o, o, '4', o, o, '7'],\n",
    "    '3' : [o, o, o, '4', o, o, o],\n",
    "    '4' : [o, o, o, o, o, '6', o],\n",
    "    '5' : [o, o, '3', '4', o, o, o],\n",
    "    '6' : [o, o, o, o, o, o, o],\n",
    "    '7' : [o, o, o, o, '5', o, o]\n",
    "}\n",
    "def BFS(graph, s):\n",
    "    visited = set()\n",
    "    queue   = set()      #list in python is basically queue\n",
    "    visited.add(s) #means make it black\n",
    "    queue.add(s)\n",
    "    \n",
    "    while queue:      #as long as the queue is not empty....\n",
    "        u = queue.pop()  #pop the front guy.....basically index 0\n",
    "        \n",
    "        print(u, \"-->\", end = \"\")\n",
    "        \n",
    "        for neighbor in graph[u]: #for everyone who connects to u, \n",
    "            if neighbor not in visited and neighbor != '-inf':\n",
    "                visited.add(neighbor)              #add them to the visited\n",
    "                queue.add(neighbor)                #add them to the queue\n",
    "    print('\\n')\n",
    "                \n",
    "BFS(graph, '1')\n",
    "BFS(graph_mat, '1')"
   ]
  },
  {
   "cell_type": "code",
   "execution_count": 33,
   "id": "57bf62a5",
   "metadata": {},
   "outputs": [
    {
     "name": "stdout",
     "output_type": "stream",
     "text": [
      "1 --->2 --->7 --->5 --->4 --->6 --->3 --->\n",
      "\n",
      "1 --->2 --->4 --->6 --->7 --->5 --->3 --->success\n"
     ]
    }
   ],
   "source": [
    "#adjacency list\n",
    "\n",
    "graph = {\n",
    "    '1' : ['2'],\n",
    "    '2' : ['7', '4'],\n",
    "    '3' : ['4'],\n",
    "    '4' : ['6'],\n",
    "    '5' : ['4', '3'],\n",
    "    '6' : [],\n",
    "    '7' : ['5']\n",
    "}\n",
    "\n",
    "# adjacency matrix\n",
    "o = '-inf'\n",
    "graph_mat = {\n",
    "    '1' : [o, '2', o, o, o, o, o],\n",
    "    '2' : [o, o, o, '4', o, o, '7'],\n",
    "    '3' : [o, o, o, '4', o, o, o],\n",
    "    '4' : [o, o, o, o, o, '6', o],\n",
    "    '5' : [o, o, '3', '4', o, o, o],\n",
    "    '6' : [o, o, o, o, o, o, o],\n",
    "    '7' : [o, o, o, o, '5', o, o]\n",
    "}\n",
    "\n",
    "visited = set()\n",
    "def DFS(graph, s):\n",
    "    if s not in visited:\n",
    "        print(s, \"--->\", end=\"\")  #our answer\n",
    "        visited.add(s)\n",
    "        for neighbor in graph[s]:\n",
    "            if neighbor != '-inf':\n",
    "                DFS(graph, neighbor)\n",
    "                \n",
    "DFS(graph, '1')\n",
    "print('\\n')\n",
    "visited = set()\n",
    "DFS(graph_mat, '1')"
   ]
  },
  {
   "cell_type": "code",
   "execution_count": 65,
   "id": "631ac59b",
   "metadata": {},
   "outputs": [
    {
     "name": "stdout",
     "output_type": "stream",
     "text": [
      "1 -->2 -->5 -->4 -->3 -->total distance: 19\n",
      "\n",
      "\n"
     ]
    }
   ],
   "source": [
    "# Case in real life\n",
    "# A postman want to send mail to every house with the shortest path in the village with 5 houses and start at house no. 1.\n",
    "# Assume every house can go to each other and each distance is not equal.\n",
    "\n",
    "o = 999 # not travel to same house\n",
    "graph_mat = [\n",
    "    [o, 1, 8, 4, 6],\n",
    "    [1, o, 3, 5, 2],\n",
    "    [8, 3, o, 9, 10],\n",
    "    [4, 5, 9, o, 7],\n",
    "    [6, 2, 10, 7, o]]\n",
    "\n",
    "def BFS_postman(graph, s):\n",
    "    visited = set()\n",
    "    queue   = set()      #list in python is basically queue\n",
    "    visited.add(s) #means make it black\n",
    "    queue.add(s)\n",
    "    dist = 0\n",
    "    u_old = 999\n",
    "    while queue:      #as long as the queue is not empty....\n",
    "        u = queue.pop()  #pop the front guy.....basically index 0\n",
    "        if u_old != u:\n",
    "            print(u, \"-->\", end = \"\")\n",
    "        min_dist = min(graph[u-1])\n",
    "        if min_dist != 999:\n",
    "            if (graph[u-1].index(min_dist) + 1) not in visited:\n",
    "                visited.add(graph[u-1].index(min_dist) + 1)              #add them to the visited\n",
    "                queue.add(graph[u-1].index(min_dist) + 1)                #add them to the queue\n",
    "                dist = dist + min_dist\n",
    "                graph[graph[u-1].index(min_dist)][u-1], graph[u-1][graph[u-1].index(min_dist)] = 999, 999\n",
    "            else:\n",
    "                graph[u-1][graph[u-1].index(min_dist)] = 999\n",
    "                queue.add(u)\n",
    "                u_old = u\n",
    "        else:\n",
    "            break\n",
    "    print('total distance:', dist)\n",
    "    print('\\n')\n",
    "BFS_postman(graph_mat, 1)"
   ]
  },
  {
   "cell_type": "code",
   "execution_count": null,
   "id": "e0daefe1",
   "metadata": {},
   "outputs": [],
   "source": []
  }
 ],
 "metadata": {
  "kernelspec": {
   "display_name": "Python 3",
   "language": "python",
   "name": "python3"
  },
  "language_info": {
   "codemirror_mode": {
    "name": "ipython",
    "version": 3
   },
   "file_extension": ".py",
   "mimetype": "text/x-python",
   "name": "python",
   "nbconvert_exporter": "python",
   "pygments_lexer": "ipython3",
   "version": "3.8.8"
  }
 },
 "nbformat": 4,
 "nbformat_minor": 5
}
