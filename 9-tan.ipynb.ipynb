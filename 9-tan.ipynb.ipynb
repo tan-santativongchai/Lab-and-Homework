{
 "cells": [
  {
   "cell_type": "code",
   "execution_count": 75,
   "id": "935b560f-9ae3-45ee-b239-016d6e2e6628",
   "metadata": {},
   "outputs": [
    {
     "name": "stdout",
     "output_type": "stream",
     "text": [
      "['A', 'C', 'E', 'B', 'D']\n",
      "from A to A, distance: 0\t path: []\n",
      "from A to B, distance: 7\t path: ['C']\n",
      "from A to C, distance: 3\t path: ['A']\n",
      "from A to D, distance: 9\t path: ['B']\n",
      "from A to E, distance: 5\t path: ['C']\n"
     ]
    }
   ],
   "source": [
    "# Dijkstra (adapted from Prim's)\n",
    "from heapdict import heapdict\n",
    "\n",
    "G = {'A': {'B':10, 'C':3},\n",
    "     'B': {'C':2, 'D':2},\n",
    "     'C': {'B':4, 'D':8, 'E':2},\n",
    "     'D': {'E':7},\n",
    "     'E': {'D':9}}\n",
    "\n",
    "INF = 9999\n",
    "N   = 5\n",
    "\n",
    "# Point we start to each other.\n",
    "r   = 'A'\n",
    "\n",
    "Q = heapdict()\n",
    "d_rest = heapdict()\n",
    "d_path = dict()\n",
    "for i in list(G.keys()):\n",
    "    Q[i] = INF\n",
    "    d_rest[i] = 0\n",
    "    d_path[i] = []\n",
    "    \n",
    "Q[r] = 0\n",
    "\n",
    "S = []\n",
    "def adj(G, u):\n",
    "    return G[u].keys()\n",
    "\n",
    "def v_in_Q(Q, v):\n",
    "    return v in Q.keys()\n",
    "\n",
    "# while Q is not empty\n",
    "while(Q):\n",
    "    u, d  = Q.popitem()\n",
    "    S.append(u)\n",
    "    for v in adj(G, u):\n",
    "        if v_in_Q(Q, v) and d + G[u][v] < Q[v]:\n",
    "            Q[v]  = d + G[u][v]\n",
    "            d_rest[v] = d + G[u][v]\n",
    "            if d_path[v]:\n",
    "                d_path[v].pop()\n",
    "            d_path[v].append(u)\n",
    "\n",
    "print(S)\n",
    "for i in list(G.keys()):\n",
    "    print(f'from {r} to {i}, distance: {d_rest[i]}\\t path: {d_path[i]}')"
   ]
  },
  {
   "cell_type": "code",
   "execution_count": null,
   "id": "dda612d9-5c29-4548-b38d-16308f26dea8",
   "metadata": {},
   "outputs": [],
   "source": []
  }
 ],
 "metadata": {
  "kernelspec": {
   "display_name": "Python 3 (ipykernel)",
   "language": "python",
   "name": "python3"
  },
  "language_info": {
   "codemirror_mode": {
    "name": "ipython",
    "version": 3
   },
   "file_extension": ".py",
   "mimetype": "text/x-python",
   "name": "python",
   "nbconvert_exporter": "python",
   "pygments_lexer": "ipython3",
   "version": "3.9.7"
  }
 },
 "nbformat": 4,
 "nbformat_minor": 5
}
